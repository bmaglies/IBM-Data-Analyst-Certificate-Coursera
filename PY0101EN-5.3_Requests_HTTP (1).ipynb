{
  "cells": [
    {
      "cell_type": "markdown",
      "id": "c97372f3-0d81-43bc-a07d-8deeee6916f8",
      "metadata": {},
      "outputs": [],
      "source": [
        "<a href=\"https://cognitiveclass.ai/?utm_medium=Exinfluencer&utm_source=Exinfluencer&utm_content=000026UJ&utm_term=10006555&utm_id=NA-SkillsNetwork-Channel-SkillsNetworkCoursesIBMDeveloperSkillsNetworkPY0101ENSkillsNetwork19487395-2021-01-01\">\n",
        "    <img src=\"https://cf-courses-data.s3.us.cloud-object-storage.appdomain.cloud/IBMDeveloperSkillsNetwork-PY0101EN-SkillsNetwork/IDSNlogo.png\" width=\"300\" align=\"center\">\n",
        "</a>\n"
      ]
    },
    {
      "cell_type": "markdown",
      "id": "b63190dc-5b7f-409c-9af0-58ab4d09f12d",
      "metadata": {},
      "outputs": [],
      "source": [
        "<h1> HTTP and Requests</h1>\n",
        "\n",
        "Estimated time needed: **15** minutes\n",
        "\n",
        "## Objectives\n",
        "\n",
        "After completing this lab you will be able to:\n",
        "\n",
        "*   Understand HTTP\n",
        "*   Handle HTTP Requests\n"
      ]
    },
    {
      "cell_type": "markdown",
      "id": "a324554d-2731-4135-a96f-a7fb45ce0f11",
      "metadata": {},
      "outputs": [],
      "source": [
        "<h2>Table of Contents</h2>\n",
        "\n",
        "<div class=\"alert alert-block alert-info\" style=\"margin-top: 20px\">\n",
        "    <ul>\n",
        "        <li>\n",
        "            <a href=\"https://#index\">Overview of HTTP </a>\n",
        "            <ul>\n",
        "                <li><a href=\"https://#HTTP\">Uniform Resource Locator:URL</a></li>\n",
        "                 <li><a href=\"https://slice/?utm_medium=Exinfluencer&utm_source=Exinfluencer&utm_content=000026UJ&utm_term=10006555&utm_id=NA-SkillsNetwork-Channel-SkillsNetworkCoursesIBMDeveloperSkillsNetworkPY0101ENSkillsNetwork19487395-2021-01-01\">Request</a></li>\n",
        "                <li><a href=\"https://stride/?utm_medium=Exinfluencer&utm_source=Exinfluencer&utm_content=000026UJ&utm_term=10006555&utm_id=NA-SkillsNetwork-Channel-SkillsNetworkCoursesIBMDeveloperSkillsNetworkPY0101ENSkillsNetwork19487395-2021-01-01\">Response</a></li>\n",
        "            </ul>\n",
        "        </li>\n",
        "        <li>\n",
        "            <a href=\"https://#RP\">Requests in Python  </a>\n",
        "            <ul>\n",
        "                <li><a href=\"https://#get\">Get Request with URL Parameters</a></li>\n",
        "                <li><a href=\"https://#post\">Post Requests </a></li>\n",
        "\n",
        "</ul>\n",
        "\n",
        "</div>\n",
        "\n",
        "<hr>\n"
      ]
    },
    {
      "cell_type": "markdown",
      "id": "52ad1316-acb5-4b8c-b842-c3ee3eaed36e",
      "metadata": {},
      "outputs": [],
      "source": [
        "<h2 id=\"\">Overview of HTTP </h2>\n"
      ]
    },
    {
      "cell_type": "markdown",
      "id": "562eb0be-2190-4039-a3da-1d3bdec78e49",
      "metadata": {},
      "outputs": [],
      "source": [
        "When you, the **client**, use a web page your browser sends an **HTTP** request to the **server** where the page is hosted. The server tries to find the desired **resource** by default \"<code>index.html</code>\". If your request is successful, the server will send the object to the client in an **HTTP response**. This includes information like the type of the **resource**, the length of the **resource**, and other information.\n",
        "\n",
        "<p>\n",
        "The figure below represents the process. The circle on the left represents the client, the circle on the right represents the Web server. The table under the Web server represents a list of resources stored in the web server. In  this case an <code>HTML</code> file, <code>png</code> image, and <code>txt</code> file .\n",
        "</p>\n",
        "<p>\n",
        "The <b>HTTP</b> protocol allows you to send and receive information through the web including webpages, images, and other web resources. In this lab, we will provide an overview of the Requests library for interacting with the <code>HTTP</code> protocol. \n",
        "</p\n"
      ]
    },
    {
      "cell_type": "markdown",
      "id": "ff036279-926a-4102-863f-5cafb5b78f37",
      "metadata": {},
      "outputs": [],
      "source": [
        "<div class=\"alert alert-block alert-info\" style=\"margin-top: 20px\">\n",
        "         <img src=\"https://cf-courses-data.s3.us.cloud-object-storage.appdomain.cloud/IBMDeveloperSkillsNetwork-PY0101EN-SkillsNetwork/labs/Module%205/images/reqest_basics.png\" width=\"750\" align=\"center\">\n",
        "\n",
        "</div>\n"
      ]
    },
    {
      "cell_type": "markdown",
      "id": "fea402b4-a8ad-49bc-bd7a-72bc9ae8f2b0",
      "metadata": {},
      "outputs": [],
      "source": [
        "<h2 id=\"URL\">Uniform Resource Locator: URL</h2>\n"
      ]
    },
    {
      "cell_type": "markdown",
      "id": "60ea84d9-6e08-4684-846e-b3757969d7af",
      "metadata": {},
      "outputs": [],
      "source": [
        "Uniform resource locator (URL) is the most popular way to find resources on the web.  We can break the URL into three parts.\n",
        "\n",
        "<ul>\n",
        "    <li><b>scheme</b> this is this protocol, for this lab it will always be <code>http://</code>  </li>\n",
        "    <li><b> Internet address or  Base URL </b> this will be used to find the location here are some examples: <code>www.ibm.com</code> and  <code> www.gitlab.com </code> </li>\n",
        "    <li><b>route</b> location on the web server for example: <code>/images/IDSNlogo.png</code> </li>\n",
        "</ul>\n"
      ]
    },
    {
      "cell_type": "markdown",
      "id": "85d2a8ea-0e4e-4b08-a4c8-9852255f1913",
      "metadata": {},
      "outputs": [],
      "source": [
        "You may also hear the term Uniform Resource Identifier (URI), URL are actually a subset of URIs. Another popular term is endpoint, this is the URL of an operation provided by a Web server.\n"
      ]
    },
    {
      "cell_type": "markdown",
      "id": "e931314f-712f-47b5-8fe0-d3444a458139",
      "metadata": {},
      "outputs": [],
      "source": [
        "<h2 id=\"RE\">Request </h2>\n"
      ]
    },
    {
      "cell_type": "markdown",
      "id": "299fd544-5d1f-46b2-b333-369d3738598f",
      "metadata": {},
      "outputs": [],
      "source": [
        "The process can be broken into the <b>request</b> and <b>response </b> process.  The request using the get method is partially illustrated below. In the start line we have the <code>GET</code> method, this is an <code>HTTP</code> method. Also the location of the resource  <code>/index.html</code> and the <code>HTTP</code> version. The Request header passes additional information with an <code>HTTP</code> request:\n"
      ]
    },
    {
      "cell_type": "markdown",
      "id": "a958718e-2ead-4f9a-b61f-3f5f4bc5b9f0",
      "metadata": {},
      "outputs": [],
      "source": [
        "<div class=\"alert alert-block alert-info\" style=\"margin-top: 20px\">\n",
        "         <img src=\"https://cf-courses-data.s3.us.cloud-object-storage.appdomain.cloud/IBMDeveloperSkillsNetwork-PY0101EN-SkillsNetwork/labs/Module%205/images/reqest_messege.png\" width=\"400\" align=\"center\">\n",
        "</div>\n"
      ]
    },
    {
      "cell_type": "markdown",
      "id": "18aea148-32ab-402b-b533-885819e7c86c",
      "metadata": {},
      "outputs": [],
      "source": [
        "When an <code>HTTP</code> request is made, an <code>HTTP</code> method is sent, this tells the server what action to perform.  A list of several <code>HTTP</code> methods is shown below. We will go over more examples later.\n"
      ]
    },
    {
      "cell_type": "markdown",
      "id": "2eac4d30-fe15-4ba4-9c82-0577e8907bca",
      "metadata": {},
      "outputs": [],
      "source": [
        "<div class=\"alert alert-block alert-info\" style=\"margin-top: 20px\">\n",
        "         <img src=\"https://cf-courses-data.s3.us.cloud-object-storage.appdomain.cloud/IBMDeveloperSkillsNetwork-PY0101EN-SkillsNetwork/labs/Module%205/images/http_methods.png\" width=\"400\" align=\"center\">\n",
        "</div>\n"
      ]
    },
    {
      "cell_type": "markdown",
      "id": "0699911c-bc52-4c87-9a58-34c9b0d1a1bb",
      "metadata": {},
      "outputs": [],
      "source": [
        "<h2 id=\"RES\">Response</h2>\n"
      ]
    },
    {
      "cell_type": "markdown",
      "id": "ad1ad63d-8f60-4c73-9392-dda4c50a5623",
      "metadata": {},
      "outputs": [],
      "source": [
        "The figure below represents the response; the response start line contains the version number <code>HTTP/1.0</code>, a status code (200) meaning success, followed by a descriptive phrase (OK). The response header contains useful information. Finally, we have the response body containing the requested file, an <code> HTML </code> document.  It should be noted that some requests have headers.\n"
      ]
    },
    {
      "cell_type": "markdown",
      "id": "a7118c66-70b4-4966-8be6-c51f5967a00a",
      "metadata": {},
      "outputs": [],
      "source": [
        "<div class=\"alert alert-block alert-info\" style=\"margin-top: 20px\">\n",
        "         <img src=\"https://cf-courses-data.s3.us.cloud-object-storage.appdomain.cloud/IBMDeveloperSkillsNetwork-PY0101EN-SkillsNetwork/labs/Module%205/images/response_message.png\" width=\"400\" align=\"center\">\n",
        "</div>\n"
      ]
    },
    {
      "cell_type": "markdown",
      "id": "fbcdc25e-663f-4021-a360-1d9763cebcd8",
      "metadata": {},
      "outputs": [],
      "source": [
        "Some status code examples are shown in the table below, the prefix indicates the class. These are shown in yellow, with actual status codes shown in  white. Check out the following <a href=\"https://developer.mozilla.org/en-US/docs/Web/HTTP/Status?utm_medium=Exinfluencer&utm_source=Exinfluencer&utm_content=000026UJ&utm_term=10006555&utm_id=NA-SkillsNetwork-Channel-SkillsNetworkCoursesIBMDeveloperSkillsNetworkPY0101ENSkillsNetwork19487395-2021-01-01\">link </a> for more descriptions.\n"
      ]
    },
    {
      "cell_type": "markdown",
      "id": "fbbb6ec8-c967-4497-aaee-3bc601a49751",
      "metadata": {},
      "outputs": [],
      "source": [
        "<div class=\"alert alert-block alert-info\" style=\"margin-top: 20px\">\n",
        "         <img src=\"https://cf-courses-data.s3.us.cloud-object-storage.appdomain.cloud/IBMDeveloperSkillsNetwork-PY0101EN-SkillsNetwork/labs/Module%205/images/status_code.png\" width=\"300\" align=\"center\">\n",
        "</div>\n"
      ]
    },
    {
      "cell_type": "markdown",
      "id": "fb15892c-f8e4-4594-a4c6-4f489fa80ddd",
      "metadata": {},
      "outputs": [],
      "source": [
        "<h2 id=\"RP\">Requests in Python</h2>\n"
      ]
    },
    {
      "cell_type": "markdown",
      "id": "6f6f8568-b8d7-433c-88d3-f623695e4148",
      "metadata": {},
      "outputs": [],
      "source": [
        "Requests is a Python Library that allows you to send <code>HTTP/1.1</code> requests easily. We can import the library as follows:\n"
      ]
    },
    {
      "cell_type": "code",
      "id": "b5dd2358-af8c-4295-a6f9-a3a396b4d8ab",
      "metadata": {},
      "outputs": [],
      "source": [
        "import requests"
      ]
    },
    {
      "cell_type": "markdown",
      "id": "0f602952-68f5-4f49-9813-eedda91d44e8",
      "metadata": {},
      "outputs": [],
      "source": [
        "We will also use the following libraries:\n"
      ]
    },
    {
      "cell_type": "code",
      "id": "63443a5a-11de-49d3-9537-99b27e2fa423",
      "metadata": {},
      "outputs": [],
      "source": [
        "import os \nfrom PIL import Image\nfrom IPython.display import IFrame"
      ]
    },
    {
      "cell_type": "markdown",
      "id": "625bf4eb-33d3-4686-b542-abe7132c3179",
      "metadata": {},
      "outputs": [],
      "source": [
        "You can make a <code>GET</code> request via the method <code>get</code> to [www.ibm.com](http://www.ibm.com/?utm_medium=Exinfluencer&utm_source=Exinfluencer&utm_content=000026UJ&utm_term=10006555&utm_id=NA-SkillsNetwork-Channel-SkillsNetworkCoursesIBMDeveloperSkillsNetworkPY0101ENSkillsNetwork19487395-2021-01-01):\n"
      ]
    },
    {
      "cell_type": "code",
      "id": "f8759186-3a0b-432c-8dbe-d0864a71f667",
      "metadata": {},
      "outputs": [],
      "source": [
        "url='https://www.ibm.com/'\nr=requests.get(url)\n"
      ]
    },
    {
      "cell_type": "markdown",
      "id": "28955601-efd3-4f10-8832-5311d7d3e08a",
      "metadata": {},
      "outputs": [],
      "source": [
        "We have the response object <code>r</code>, this has information about the request, like the status of the request. We can view the status code using the attribute <code>status_code</code>.\n"
      ]
    },
    {
      "cell_type": "code",
      "id": "57289224-1ce4-4272-a580-58e99e10388c",
      "metadata": {},
      "outputs": [],
      "source": [
        "r.status_code"
      ]
    },
    {
      "cell_type": "markdown",
      "id": "eb7380d9-9fc1-4c0c-b905-620ae37d354b",
      "metadata": {},
      "outputs": [],
      "source": [
        "You can view the request headers:\n"
      ]
    },
    {
      "cell_type": "code",
      "id": "cab488ab-105d-4e3b-8d7f-424a3cda65b1",
      "metadata": {},
      "outputs": [],
      "source": [
        "print(r.request.headers)"
      ]
    },
    {
      "cell_type": "markdown",
      "id": "edf361ec-8c18-4c9b-b3a4-9b209cc73b44",
      "metadata": {},
      "outputs": [],
      "source": [
        "You can view the request body, in the following line, as there is no body for a get request we get a <code>None</code>:\n"
      ]
    },
    {
      "cell_type": "code",
      "id": "4b80c19a-e4a1-482d-9e72-3b5924dfe613",
      "metadata": {},
      "outputs": [],
      "source": [
        "print(\"request body:\", r.request.body)"
      ]
    },
    {
      "cell_type": "markdown",
      "id": "d15f7d51-fa8b-4f63-ac3a-fdd7ba9b7e69",
      "metadata": {},
      "outputs": [],
      "source": [
        "You can view the <code>HTTP</code> response header using the attribute <code>headers</code>. This returns a python dictionary of <code>HTTP</code> response headers.\n"
      ]
    },
    {
      "cell_type": "code",
      "id": "51fb3c77-5209-4964-93f5-f1c2c7e2ede7",
      "metadata": {},
      "outputs": [],
      "source": [
        "header=r.headers\nprint(r.headers)"
      ]
    },
    {
      "cell_type": "markdown",
      "id": "bb48743c-d075-4875-84f9-0007f5144295",
      "metadata": {},
      "outputs": [],
      "source": [
        "We can obtain the date the request was sent using the key <code>Date</code>\n"
      ]
    },
    {
      "cell_type": "code",
      "id": "45dddbc1-9b1c-462e-8078-d2f9a52d0de2",
      "metadata": {},
      "outputs": [],
      "source": [
        "header['date']"
      ]
    },
    {
      "cell_type": "markdown",
      "id": "2a9a511d-dff4-48b1-bcbd-1a948cf2da33",
      "metadata": {},
      "outputs": [],
      "source": [
        "<code>Content-Type</code> indicates the type of data:\n"
      ]
    },
    {
      "cell_type": "code",
      "id": "29b38ac3-b089-4ec0-a954-db7fa3d1a293",
      "metadata": {},
      "outputs": [],
      "source": [
        "header['Content-Type']"
      ]
    },
    {
      "cell_type": "markdown",
      "id": "226a0822-9bf4-4955-99cd-8e608993c3e6",
      "metadata": {},
      "outputs": [],
      "source": [
        "You can also check the <code>encoding</code>:\n"
      ]
    },
    {
      "cell_type": "code",
      "id": "85d83152-d587-4bcc-86d8-ca107dfef212",
      "metadata": {},
      "outputs": [],
      "source": [
        " r.encoding"
      ]
    },
    {
      "cell_type": "markdown",
      "id": "94441b2e-c274-4583-a6db-767e6151a863",
      "metadata": {},
      "outputs": [],
      "source": [
        "As the <code>Content-Type</code> is <code>text/html</code> we can use the attribute <code>text</code> to display the <code>HTML</code> in the body. We can review the first 100 characters:\n"
      ]
    },
    {
      "cell_type": "code",
      "id": "f17c58de-94ea-4ff1-88b3-c909d99429a3",
      "metadata": {},
      "outputs": [],
      "source": [
        "r.text[0:100]"
      ]
    },
    {
      "cell_type": "markdown",
      "id": "f982c5b0-0dda-4889-a08e-56fbd3f5da18",
      "metadata": {},
      "outputs": [],
      "source": [
        "You can load other types of data for non-text requests, like images. Consider the URL of the following image:\n"
      ]
    },
    {
      "cell_type": "code",
      "id": "aff3ca98-ec95-4577-829f-627b9f2f572f",
      "metadata": {},
      "outputs": [],
      "source": [
        "# Use single quotation marks for defining string\nurl='https://cf-courses-data.s3.us.cloud-object-storage.appdomain.cloud/IBMDeveloperSkillsNetwork-PY0101EN-SkillsNetwork/IDSNlogo.png'"
      ]
    },
    {
      "cell_type": "markdown",
      "id": "0eed55e0-4c37-435b-b288-4f913fd47d0e",
      "metadata": {},
      "outputs": [],
      "source": [
        "We can make a get request:\n"
      ]
    },
    {
      "cell_type": "code",
      "id": "9a0dd0bf-73cd-43b4-9f09-c3c6f21b5e48",
      "metadata": {},
      "outputs": [],
      "source": [
        "r=requests.get(url)"
      ]
    },
    {
      "cell_type": "markdown",
      "id": "0ff981e9-4e59-43d2-91a6-65db73e80fdb",
      "metadata": {},
      "outputs": [],
      "source": [
        "We can look at the response header:\n"
      ]
    },
    {
      "cell_type": "code",
      "id": "bc9ddf5d-0c51-4ca9-a461-249628beb272",
      "metadata": {},
      "outputs": [],
      "source": [
        "print(r.headers)"
      ]
    },
    {
      "cell_type": "markdown",
      "id": "702d97af-4cf5-4172-ac96-aa5ec88340bf",
      "metadata": {},
      "outputs": [],
      "source": [
        "We can see the <code>'Content-Type'</code>\n"
      ]
    },
    {
      "cell_type": "code",
      "id": "97ca2444-ba62-474e-9ed4-7d2d7a1b55be",
      "metadata": {},
      "outputs": [],
      "source": [
        "r.headers['Content-Type']"
      ]
    },
    {
      "cell_type": "markdown",
      "id": "9f98dc53-5370-4d0b-8295-26e93b624826",
      "metadata": {},
      "outputs": [],
      "source": [
        "An image is a response object that contains the image as a <a href=\"https://docs.python.org/3/glossary.html?utm_medium=Exinfluencer&utm_source=Exinfluencer&utm_content=000026UJ&utm_term=10006555&utm_id=NA-SkillsNetwork-Channel-SkillsNetworkCoursesIBMDeveloperSkillsNetworkPY0101ENSkillsNetwork19487395-2021-01-01#term-bytes-like-object\">bytes-like object</a>. As a result, we must save it using a file object. First, we specify the file path and\n",
        "name\n"
      ]
    },
    {
      "cell_type": "code",
      "id": "9d9f5035-1aa9-4213-af1e-ee07f3665de7",
      "metadata": {},
      "outputs": [],
      "source": [
        "path=os.path.join(os.getcwd(),'image.png')\npath"
      ]
    },
    {
      "cell_type": "markdown",
      "id": "36182975-380d-4230-8e39-4befa548bae1",
      "metadata": {},
      "outputs": [],
      "source": [
        "We save the file, in order to access the body of the response we use the attribute <code>content</code> then save it using the <code>open</code> function and write <code>method</code>:\n"
      ]
    },
    {
      "cell_type": "code",
      "id": "a0f49b7b-0ff9-4955-bfc6-bc116ab4c1bc",
      "metadata": {},
      "outputs": [],
      "source": [
        "with open(path,'wb') as f:\n    f.write(r.content)"
      ]
    },
    {
      "cell_type": "markdown",
      "id": "0bf4c234-6411-4683-9ab2-d5321ee49c79",
      "metadata": {},
      "outputs": [],
      "source": [
        "We can view the image:\n"
      ]
    },
    {
      "cell_type": "code",
      "id": "3b5d5bb7-f7ec-4440-9bdf-2256134c6949",
      "metadata": {},
      "outputs": [],
      "source": [
        "Image.open(path)  "
      ]
    },
    {
      "cell_type": "markdown",
      "id": "0f3099f6-dafc-455c-96c3-ff0cfa3fb2c7",
      "metadata": {},
      "outputs": [],
      "source": [
        "<h3>Question 1: write <a href=\"https://www.gnu.org/software/wget/?utm_medium=Exinfluencer&utm_source=Exinfluencer&utm_content=000026UJ&utm_term=10006555&utm_id=NA-SkillsNetwork-Channel-SkillsNetworkCoursesIBMDeveloperSkillsNetworkPY0101ENSkillsNetwork19487395-2021-01-01\"><code> wget </code></a></h3>\n"
      ]
    },
    {
      "cell_type": "markdown",
      "id": "4735f587-e7e5-451a-83f5-8074fd4cf512",
      "metadata": {},
      "outputs": [],
      "source": [
        "In the previous section, we used the <code>wget</code> function to retrieve content from the web server as shown below.  Write the python code to perform the same task. The code should be the same as the one used to download the image, but the file name should be <code>'Example1.txt'</code>.\n"
      ]
    },
    {
      "cell_type": "markdown",
      "id": "2c24b69c-5f8b-4b32-bb2e-ad565c87b7e0",
      "metadata": {},
      "outputs": [],
      "source": [
        "<code>!wget -O /resources/data/Example1.txt <https://cf-courses-data.s3.us.cloud-object-storage.appdomain.cloud/IBMDeveloperSkillsNetwork-PY0101EN-SkillsNetwork/labs/Module%205/data/Example1.txt></code>\n"
      ]
    },
    {
      "cell_type": "code",
      "id": "a80ea0f9-5115-4347-81ce-10aba315ffd9",
      "metadata": {},
      "outputs": [],
      "source": [
        ""
      ]
    },
    {
      "cell_type": "markdown",
      "id": "6dca705e-ac64-483d-944d-8870d1f0dede",
      "metadata": {},
      "outputs": [],
      "source": [
        "<details><summary>Click here for the solution</summary>\n",
        "\n",
        "```python\n",
        "url='https://cf-courses-data.s3.us.cloud-object-storage.appdomain.cloud/IBMDeveloperSkillsNetwork-PY0101EN-SkillsNetwork/labs/Module%205/data/Example1.txt'\n",
        "path=os.path.join(os.getcwd(),'example1.txt')\n",
        "r=requests.get(url)\n",
        "with open(path,'wb') as f:\n",
        "    f.write(r.content)\n",
        "\n",
        "```\n",
        "\n",
        "</details>\n"
      ]
    },
    {
      "cell_type": "markdown",
      "id": "063de1bc-628b-42a0-b056-24249fc55475",
      "metadata": {},
      "outputs": [],
      "source": [
        "<h2 id=\"URL_P\">Get Request with URL Parameters </h2>\n"
      ]
    },
    {
      "cell_type": "markdown",
      "id": "9ff45f63-d50a-4205-a13b-d430f8670cd2",
      "metadata": {},
      "outputs": [],
      "source": [
        "You can use the <b>GET</b> method to modify the results of your query, for example retrieving data from an API. We send a <b>GET</b> request to the  server. Like before we have the <b>Base URL</b>, in the <b>Route</b> we append <code>/get</code>, this indicates we would like to preform a <code>GET</code> request. This is demonstrated in the following table:\n"
      ]
    },
    {
      "cell_type": "markdown",
      "id": "683c65d1-e948-4560-b151-858d6ce51bfc",
      "metadata": {},
      "outputs": [],
      "source": [
        "<div class=\"alert alert-block alert-info\" style=\"margin-top: 20px\">\n",
        "         <img src=\"https://cf-courses-data.s3.us.cloud-object-storage.appdomain.cloud/IBMDeveloperSkillsNetwork-PY0101EN-SkillsNetwork/labs/Module%205/images/base_URL_Route.png\" width=\"400\" align=\"center\">\n",
        "</div>\n"
      ]
    },
    {
      "cell_type": "markdown",
      "id": "ee18cd64-5696-495c-8b6a-87887cadc87a",
      "metadata": {},
      "outputs": [],
      "source": [
        "The Base URL is for <code>[http://httpbin.org/](http://httpbin.org/?utm_medium=Exinfluencer&utm_source=Exinfluencer&utm_content=000026UJ&utm_term=10006555&utm_id=NA-SkillsNetwork-Channel-SkillsNetworkCoursesIBMDeveloperSkillsNetworkPY0101ENSkillsNetwork19487395-2021-01-01)</code> is a simple HTTP Request & Response Service. The <code>URL</code> in Python is given by:\n"
      ]
    },
    {
      "cell_type": "code",
      "id": "11c45126-81bf-4ae6-a297-35dd18e7b914",
      "metadata": {},
      "outputs": [],
      "source": [
        "url_get='http://httpbin.org/get'"
      ]
    },
    {
      "cell_type": "markdown",
      "id": "e4922945-11fe-4a41-aa8c-758dfb82f404",
      "metadata": {},
      "outputs": [],
      "source": [
        "A <a href=\"https://en.wikipedia.org/wiki/Query_string?utm_medium=Exinfluencer&utm_source=Exinfluencer&utm_content=000026UJ&utm_term=10006555&utm_id=NA-SkillsNetwork-Channel-SkillsNetworkCoursesIBMDeveloperSkillsNetworkPY0101ENSkillsNetwork19487395-2021-01-01\">query string</a> is a part of a uniform resource locator (URL), this sends other information to the web server. The start of the query is a <code>?</code>, followed by a series of parameter and value pairs, as shown in the table below. The first parameter name is <code>name</code> and the value is <code>Joseph</code>. The second parameter name is <code>ID</code> and the Value is <code>123</code>. Each pair, parameter, and value is separated by an equals sign, <code>=</code>.\n",
        "The series of pairs is separated by the ampersand <code>&</code>.\n"
      ]
    },
    {
      "cell_type": "markdown",
      "id": "a0fdf899-b174-40f3-b320-f5172faf98c4",
      "metadata": {},
      "outputs": [],
      "source": [
        "<div class=\"alert alert-block alert-info\" style=\"margin-top: 20px\">\n",
        "         <img src=\"https://cf-courses-data.s3.us.cloud-object-storage.appdomain.cloud/IBMDeveloperSkillsNetwork-PY0101EN-SkillsNetwork/labs/Module%205/images/query_string.png\" width=\"500\" align=\"center\">\n",
        "</div>\n"
      ]
    },
    {
      "cell_type": "markdown",
      "id": "cc223924-7842-44a5-bb16-1d637358f065",
      "metadata": {},
      "outputs": [],
      "source": [
        "To create a Query string, add a dictionary. The keys are the parameter names and the values are the value of the Query string.\n"
      ]
    },
    {
      "cell_type": "code",
      "id": "1d947642-98f7-4631-bf40-9289317320b5",
      "metadata": {},
      "outputs": [],
      "source": [
        "payload={\"name\":\"Joseph\",\"ID\":\"123\"}"
      ]
    },
    {
      "cell_type": "markdown",
      "id": "1831a013-261b-483f-9ab0-ffbebdd6f432",
      "metadata": {},
      "outputs": [],
      "source": [
        "Then passing the dictionary <code>payload</code> to the <code>params</code> parameter of the <code> get()</code> function:\n"
      ]
    },
    {
      "cell_type": "code",
      "id": "dae90af7-23f1-4ffd-b414-076ee28fc4a1",
      "metadata": {},
      "outputs": [],
      "source": [
        "r=requests.get(url_get,params=payload)"
      ]
    },
    {
      "cell_type": "markdown",
      "id": "0b1f02ec-fea9-4014-af13-1ec90cf6ec09",
      "metadata": {},
      "outputs": [],
      "source": [
        "We can print out the <code>URL</code> and see the name and values\n"
      ]
    },
    {
      "cell_type": "code",
      "id": "b35f4ffc-055e-4a27-ab06-9a6956a142b6",
      "metadata": {},
      "outputs": [],
      "source": [
        "r.url"
      ]
    },
    {
      "cell_type": "markdown",
      "id": "1ea1ea8a-e9f3-44a2-a97f-fa235b6cec3f",
      "metadata": {},
      "outputs": [],
      "source": [
        "There is no request body\n"
      ]
    },
    {
      "cell_type": "code",
      "id": "a6926071-dcdd-4cb6-8a63-fe8b55f68fc3",
      "metadata": {},
      "outputs": [],
      "source": [
        "print(\"request body:\", r.request.body)"
      ]
    },
    {
      "cell_type": "markdown",
      "id": "523274c1-d79e-4613-a972-65341eca0aa8",
      "metadata": {},
      "outputs": [],
      "source": [
        "We can print out the status code\n"
      ]
    },
    {
      "cell_type": "code",
      "id": "bdae603f-996c-4e9b-99f2-ce1413d9bc5e",
      "metadata": {},
      "outputs": [],
      "source": [
        "print(r.status_code)"
      ]
    },
    {
      "cell_type": "markdown",
      "id": "3ba128f1-7e7c-443a-931a-6c6bb57a6279",
      "metadata": {},
      "outputs": [],
      "source": [
        "We can view the response as text:\n"
      ]
    },
    {
      "cell_type": "code",
      "id": "8753c46d-70d2-479f-8908-cd67651da9ee",
      "metadata": {},
      "outputs": [],
      "source": [
        "print(r.text)"
      ]
    },
    {
      "cell_type": "markdown",
      "id": "2d3c186f-31e3-4db0-815f-3a1ca30e0465",
      "metadata": {},
      "outputs": [],
      "source": [
        "We can look at the <code>'Content-Type'</code>.\n"
      ]
    },
    {
      "cell_type": "code",
      "id": "38bec962-5b66-4693-b5df-8cbcf7a7f65a",
      "metadata": {},
      "outputs": [],
      "source": [
        "r.headers['Content-Type']"
      ]
    },
    {
      "cell_type": "markdown",
      "id": "0c5c5d71-0660-4589-a953-9fd0c718e3a8",
      "metadata": {},
      "outputs": [],
      "source": [
        "As the content <code>'Content-Type'</code> is in the <code>JSON</code> format we can use the method <code>json()</code>, it returns a Python <code>dict</code>:\n"
      ]
    },
    {
      "cell_type": "code",
      "id": "f525d3b7-97a8-4f78-bc74-c9b40fa61fc2",
      "metadata": {},
      "outputs": [],
      "source": [
        "r.json()"
      ]
    },
    {
      "cell_type": "markdown",
      "id": "a6e40dd9-3d42-4b12-961f-3eb15de4994c",
      "metadata": {},
      "outputs": [],
      "source": [
        "The key <code>args</code> has the name and values:\n"
      ]
    },
    {
      "cell_type": "code",
      "id": "2ff22870-f608-48d0-8c0e-26a11c71dae6",
      "metadata": {},
      "outputs": [],
      "source": [
        "r.json()['args']"
      ]
    },
    {
      "cell_type": "markdown",
      "id": "d0bce6f3-ad44-414a-9b1e-e712e022196f",
      "metadata": {},
      "outputs": [],
      "source": [
        "<h2 id=\"POST\">Post Requests  </h2>\n"
      ]
    },
    {
      "cell_type": "markdown",
      "id": "4be9ab5a-6fb2-45f0-95c8-89f62f9b8b3b",
      "metadata": {},
      "outputs": [],
      "source": [
        "Like a <code>GET</code> request, a <code>POST</code> is used to send data to a server, but the <code>POST</code> request sends the data in a request body. In order to send the Post Request in Python, in the <code>URL</code> we change the route to <code>POST</code>:\n"
      ]
    },
    {
      "cell_type": "code",
      "id": "f21ec0b2-dc77-48ef-a10e-9aad87d4e7ac",
      "metadata": {},
      "outputs": [],
      "source": [
        "url_post='http://httpbin.org/post'"
      ]
    },
    {
      "cell_type": "markdown",
      "id": "7addbe86-6e4a-4667-bcf7-7dba9eb03532",
      "metadata": {},
      "outputs": [],
      "source": [
        "This endpoint will expect data as a file or as a form. A form is convenient way to configure an HTTP request to send data to a server.\n"
      ]
    },
    {
      "cell_type": "markdown",
      "id": "63354c9d-a299-4548-919c-931b662acfa0",
      "metadata": {},
      "outputs": [],
      "source": [
        "To make a <code>POST</code> request we use the <code>post()</code> function, the variable <code>payload</code> is passed to the parameter <code> data </code>:\n"
      ]
    },
    {
      "cell_type": "code",
      "id": "e1876a74-98aa-4361-a293-eaf4992e2ba1",
      "metadata": {},
      "outputs": [],
      "source": [
        "r_post=requests.post(url_post,data=payload)"
      ]
    },
    {
      "cell_type": "markdown",
      "id": "4cc882d0-4de6-4f30-85a4-c0b99f40f3a6",
      "metadata": {},
      "outputs": [],
      "source": [
        "Comparing the URL from the response object of the <code>GET</code> and <code>POST</code> request we see the <code>POST</code> request has no name or value pairs.\n"
      ]
    },
    {
      "cell_type": "code",
      "id": "815e2c72-ba16-4b2a-83fb-c1f8d7bb0449",
      "metadata": {},
      "outputs": [],
      "source": [
        "print(\"POST request URL:\",r_post.url )\nprint(\"GET request URL:\",r.url)"
      ]
    },
    {
      "cell_type": "markdown",
      "id": "d603a686-9647-4224-ac9a-1bb96e1aaf7d",
      "metadata": {},
      "outputs": [],
      "source": [
        "We can compare the <code>POST</code> and <code>GET</code> request body, we see only the <code>POST</code> request has a body:\n"
      ]
    },
    {
      "cell_type": "code",
      "id": "ef632a5a-7b0a-4bb8-b085-2917f9caaf77",
      "metadata": {},
      "outputs": [],
      "source": [
        "print(\"POST request body:\",r_post.request.body)\nprint(\"GET request body:\",r.request.body)"
      ]
    },
    {
      "cell_type": "markdown",
      "id": "c54d6c5c-363c-4bb2-a04e-fff8e0eb655d",
      "metadata": {},
      "outputs": [],
      "source": [
        "We can view the form as well:\n"
      ]
    },
    {
      "cell_type": "code",
      "id": "1b45c49d-fb56-4b61-8eb5-8bc8ea64e2c0",
      "metadata": {},
      "outputs": [],
      "source": [
        "r_post.json()['form']"
      ]
    },
    {
      "cell_type": "markdown",
      "id": "3a7bbb5b-615b-419d-b98e-d59d11273b12",
      "metadata": {},
      "outputs": [],
      "source": [
        "There is a lot more you can do. Check out <a href=\"https://requests.readthedocs.io/en/master/?utm_medium=Exinfluencer&utm_source=Exinfluencer&utm_content=000026UJ&utm_term=10006555&utm_id=NA-SkillsNetwork-Channel-SkillsNetworkCoursesIBMDeveloperSkillsNetworkPY0101ENSkillsNetwork19487395-2021-01-01\">Requests </a> for more.\n"
      ]
    },
    {
      "cell_type": "markdown",
      "id": "afe0f377-ee4d-40a3-b008-693167734488",
      "metadata": {},
      "outputs": [],
      "source": [
        "<hr>\n"
      ]
    },
    {
      "cell_type": "markdown",
      "id": "a8d8a46b-38fe-4b44-9038-f63c914dc2ab",
      "metadata": {},
      "outputs": [],
      "source": [
        "## Authors\n",
        "\n",
        "<p><a href=\"https://www.linkedin.com/in/joseph-s-50398b136/?utm_medium=Exinfluencer&utm_source=Exinfluencer&utm_content=000026UJ&utm_term=10006555&utm_id=NA-SkillsNetwork-Channel-SkillsNetworkCoursesIBMDeveloperSkillsNetworkPY0101ENSkillsNetwork19487395-2021-01-01\" target=\"_blank\">Joseph Santarcangelo</a> <br>A Data Scientist at IBM, and holds a PhD in Electrical Engineering. His research focused on using Machine Learning, Signal Processing, and Computer Vision to determine how videos impact human cognition. Joseph has been working for IBM since he completed his PhD.</p>\n"
      ]
    },
    {
      "cell_type": "markdown",
      "id": "f0594320-e408-4617-a4ca-36613320ba87",
      "metadata": {},
      "outputs": [],
      "source": [
        "### Other Contributors\n",
        "\n",
        "<a href=\"https://www.linkedin.com/in/jiahui-mavis-zhou-a4537814a?utm_medium=Exinfluencer&utm_source=Exinfluencer&utm_content=000026UJ&utm_term=10006555&utm_id=NA-SkillsNetwork-Channel-SkillsNetworkCoursesIBMDeveloperSkillsNetworkPY0101ENSkillsNetwork19487395-2021-01-01\">Mavis Zhou</a>\n"
      ]
    },
    {
      "cell_type": "markdown",
      "id": "a9f73ad0-9e21-473e-a5ad-9866162b7791",
      "metadata": {},
      "outputs": [],
      "source": [
        "## Change Log\n",
        "\n",
        "| Date (YYYY-MM-DD) | Version | Changed By | Change Description           |\n",
        "| ----------------- | ------- | ---------- | ---------------------------- |\n",
        "| 2021-12-20        | 2.1     | Malika     | Updated the links            |\n",
        "| 2020-09-02        | 2.0     | Simran     | Template updates to the file |\n",
        "|                   |         |            |                              |\n",
        "|                   |         |            |                              |\n",
        "\n",
        "## <h3 align=\"center\"> © IBM Corporation 2020. All rights reserved. <h3/>\n"
      ]
    }
  ],
  "metadata": {
    "kernelspec": {
      "display_name": "Python",
      "language": "python",
      "name": "conda-env-python-py"
    },
    "language_info": {
      "name": ""
    }
  },
  "nbformat": 4,
  "nbformat_minor": 4
}